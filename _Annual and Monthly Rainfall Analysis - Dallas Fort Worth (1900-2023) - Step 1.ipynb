{
 "cells": [
  {
   "cell_type": "markdown",
   "id": "ada4b76d",
   "metadata": {},
   "source": [
    "# Annual and Monthly Rainfall Analysis: Dallas Fort Worth (1900-2023)"
   ]
  },
  {
   "cell_type": "markdown",
   "id": "a9ec21ed",
   "metadata": {},
   "source": [
    "# STEP 1 : Web Scraping using Pandas and BeautifulSoup"
   ]
  },
  {
   "cell_type": "code",
   "execution_count": 40,
   "id": "98ec1ff4",
   "metadata": {},
   "outputs": [],
   "source": [
    "from bs4 import BeautifulSoup\n",
    "import requests\n",
    "import pandas as pd"
   ]
  },
  {
   "cell_type": "markdown",
   "id": "33fd7be0",
   "metadata": {},
   "source": [
    "# - Source of the dataset: web URL"
   ]
  },
  {
   "cell_type": "code",
   "execution_count": 41,
   "id": "3f5e3a02",
   "metadata": {},
   "outputs": [],
   "source": [
    "url = 'https://www.weather.gov/fwd/dmoprecip'"
   ]
  },
  {
   "cell_type": "markdown",
   "id": "658df13c",
   "metadata": {},
   "source": [
    "# - Saving the data from the webpage "
   ]
  },
  {
   "cell_type": "code",
   "execution_count": 42,
   "id": "18cb6196",
   "metadata": {},
   "outputs": [
    {
     "name": "stdout",
     "output_type": "stream",
     "text": [
      "<Response [200]>\n"
     ]
    }
   ],
   "source": [
    "page = requests.get(url) # request model \n",
    "print(type(page)) # to understand the type of the data extracted \n",
    "print(page)"
   ]
  },
  {
   "cell_type": "markdown",
   "id": "7fa7e669",
   "metadata": {},
   "source": [
    "# - Creating a BeautifulSoup instance for HTML parsing"
   ]
  },
  {
   "cell_type": "code",
   "execution_count": 43,
   "id": "19109cb4",
   "metadata": {},
   "outputs": [
    {
     "name": "stdout",
     "output_type": "stream",
     "text": [
      "<class 'bs4.BeautifulSoup'>\n"
     ]
    }
   ],
   "source": [
    "Soup = BeautifulSoup(page.text, 'html') # BeautifulSoup instance/ object\n",
    "print(type(Soup))"
   ]
  },
  {
   "cell_type": "code",
   "execution_count": null,
   "id": "8632ce83",
   "metadata": {},
   "outputs": [],
   "source": [
    "# Printing the content of the BeautifulSoup object (Soup)\n",
    "print(Soup) "
   ]
  },
  {
   "cell_type": "markdown",
   "id": "591ae545",
   "metadata": {},
   "source": [
    "# - Extracting the table with class 'nrml' from the BeautifulSoup object (Soup)"
   ]
  },
  {
   "cell_type": "code",
   "execution_count": null,
   "id": "a1fb5b3b",
   "metadata": {},
   "outputs": [],
   "source": [
    "table = Soup.find_all('table', class_='nrml') # result set \n",
    "#print(type(table))\n",
    "table = table[0]\n",
    "table = table.find_all('tr')\n",
    "print(table)"
   ]
  },
  {
   "cell_type": "markdown",
   "id": "37437d6b",
   "metadata": {},
   "source": [
    "# - Extracting the necessary tags to get the desired column names from the table rows"
   ]
  },
  {
   "cell_type": "code",
   "execution_count": 35,
   "id": "e5221ce9",
   "metadata": {},
   "outputs": [
    {
     "name": "stdout",
     "output_type": "stream",
     "text": [
      "Year\n",
      "Jan\n",
      "Feb\n",
      "Mar\n",
      "Apr\n",
      "May\n",
      "Jun\n",
      "Jul\n",
      "Aug\n",
      "Sep\n",
      "Oct\n",
      "Nov\n",
      "Dec\n",
      "Total\n"
     ]
    }
   ],
   "source": [
    "table_titles = [i.text.strip() for i in table]\n",
    "#print(type(table_titles))\n",
    "print(table_titles[0])"
   ]
  },
  {
   "cell_type": "code",
   "execution_count": 49,
   "id": "be81d358",
   "metadata": {},
   "outputs": [
    {
     "name": "stdout",
     "output_type": "stream",
     "text": [
      "2023\n",
      "1.38\n",
      "3.97\n",
      "2.76\n",
      "3.12\n",
      "2.35\n",
      "0.78\n",
      "0.47\n",
      "T\n",
      "0.83\n",
      "9.63\n",
      "0.47\n",
      "T\n",
      "T\n"
     ]
    }
   ],
   "source": [
    "# since there are values missing for Dec month and Total Rainfall in 2023 so filling it with \"T\" (trace amounts)\n",
    "table_titles[1] += '\\nT\\nT' \n",
    "print(table_titles[1])"
   ]
  },
  {
   "cell_type": "markdown",
   "id": "4d844c30",
   "metadata": {},
   "source": [
    "# - Extracting and formatting table column names from the first row of table titles"
   ]
  },
  {
   "cell_type": "code",
   "execution_count": 58,
   "id": "b3478271",
   "metadata": {},
   "outputs": [
    {
     "name": "stdout",
     "output_type": "stream",
     "text": [
      "[['Year', 'Jan', 'Feb', 'Mar', 'Apr', 'May', 'Jun', 'Jul', 'Aug', 'Sep', 'Oct', 'Nov', 'Dec', 'Total']]\n"
     ]
    }
   ],
   "source": [
    "table_column_names = []\n",
    "\n",
    "for i in table_titles[0:1]:\n",
    "    table_column_names.append(i.split('\\n'))\n",
    "\n",
    "print(table_column_names)"
   ]
  },
  {
   "cell_type": "markdown",
   "id": "7c23bb25",
   "metadata": {},
   "source": [
    "# - Creating data frame with the column names"
   ]
  },
  {
   "cell_type": "code",
   "execution_count": 51,
   "id": "988f7863",
   "metadata": {},
   "outputs": [
    {
     "data": {
      "text/html": [
       "<div>\n",
       "<style scoped>\n",
       "    .dataframe tbody tr th:only-of-type {\n",
       "        vertical-align: middle;\n",
       "    }\n",
       "\n",
       "    .dataframe tbody tr th {\n",
       "        vertical-align: top;\n",
       "    }\n",
       "\n",
       "    .dataframe thead tr th {\n",
       "        text-align: left;\n",
       "    }\n",
       "</style>\n",
       "<table border=\"1\" class=\"dataframe\">\n",
       "  <thead>\n",
       "    <tr>\n",
       "      <th></th>\n",
       "      <th>Year</th>\n",
       "      <th>Jan</th>\n",
       "      <th>Feb</th>\n",
       "      <th>Mar</th>\n",
       "      <th>Apr</th>\n",
       "      <th>May</th>\n",
       "      <th>Jun</th>\n",
       "      <th>Jul</th>\n",
       "      <th>Aug</th>\n",
       "      <th>Sep</th>\n",
       "      <th>Oct</th>\n",
       "      <th>Nov</th>\n",
       "      <th>Dec</th>\n",
       "      <th>Total</th>\n",
       "    </tr>\n",
       "  </thead>\n",
       "  <tbody>\n",
       "  </tbody>\n",
       "</table>\n",
       "</div>"
      ],
      "text/plain": [
       "Empty DataFrame\n",
       "Columns: [(Year,), (Jan,), (Feb,), (Mar,), (Apr,), (May,), (Jun,), (Jul,), (Aug,), (Sep,), (Oct,), (Nov,), (Dec,), (Total,)]\n",
       "Index: []"
      ]
     },
     "execution_count": 51,
     "metadata": {},
     "output_type": "execute_result"
    }
   ],
   "source": [
    "df = pd.DataFrame(columns = table_column_names )\n",
    "df"
   ]
  },
  {
   "cell_type": "markdown",
   "id": "1ad381d0",
   "metadata": {},
   "source": [
    "# - Populating the data frame with rainfall data from 1900 to 2023 (present)"
   ]
  },
  {
   "cell_type": "code",
   "execution_count": 53,
   "id": "e4503c7e",
   "metadata": {},
   "outputs": [
    {
     "data": {
      "text/html": [
       "<div>\n",
       "<style scoped>\n",
       "    .dataframe tbody tr th:only-of-type {\n",
       "        vertical-align: middle;\n",
       "    }\n",
       "\n",
       "    .dataframe tbody tr th {\n",
       "        vertical-align: top;\n",
       "    }\n",
       "\n",
       "    .dataframe thead tr th {\n",
       "        text-align: left;\n",
       "    }\n",
       "</style>\n",
       "<table border=\"1\" class=\"dataframe\">\n",
       "  <thead>\n",
       "    <tr>\n",
       "      <th></th>\n",
       "      <th>Year</th>\n",
       "      <th>Jan</th>\n",
       "      <th>Feb</th>\n",
       "      <th>Mar</th>\n",
       "      <th>Apr</th>\n",
       "      <th>May</th>\n",
       "      <th>Jun</th>\n",
       "      <th>Jul</th>\n",
       "      <th>Aug</th>\n",
       "      <th>Sep</th>\n",
       "      <th>Oct</th>\n",
       "      <th>Nov</th>\n",
       "      <th>Dec</th>\n",
       "      <th>Total</th>\n",
       "    </tr>\n",
       "  </thead>\n",
       "  <tbody>\n",
       "    <tr>\n",
       "      <th>0</th>\n",
       "      <td>2023</td>\n",
       "      <td>1.38</td>\n",
       "      <td>3.97</td>\n",
       "      <td>2.76</td>\n",
       "      <td>3.12</td>\n",
       "      <td>2.35</td>\n",
       "      <td>0.78</td>\n",
       "      <td>0.47</td>\n",
       "      <td>T</td>\n",
       "      <td>0.83</td>\n",
       "      <td>9.63</td>\n",
       "      <td>0.47</td>\n",
       "      <td>T</td>\n",
       "      <td>T</td>\n",
       "    </tr>\n",
       "    <tr>\n",
       "      <th>1</th>\n",
       "      <td>2022</td>\n",
       "      <td>0.08</td>\n",
       "      <td>2.03</td>\n",
       "      <td>2.12</td>\n",
       "      <td>2.54</td>\n",
       "      <td>3.00</td>\n",
       "      <td>2.64</td>\n",
       "      <td>T</td>\n",
       "      <td>10.68</td>\n",
       "      <td>0.33</td>\n",
       "      <td>4.43</td>\n",
       "      <td>6.40</td>\n",
       "      <td>2.39</td>\n",
       "      <td>36.64</td>\n",
       "    </tr>\n",
       "    <tr>\n",
       "      <th>2</th>\n",
       "      <td>2021</td>\n",
       "      <td>0.85</td>\n",
       "      <td>2.22</td>\n",
       "      <td>3.03</td>\n",
       "      <td>4.50</td>\n",
       "      <td>7.77</td>\n",
       "      <td>2.15</td>\n",
       "      <td>1.50</td>\n",
       "      <td>4.82</td>\n",
       "      <td>0.25</td>\n",
       "      <td>2.96</td>\n",
       "      <td>3.11</td>\n",
       "      <td>0.43</td>\n",
       "      <td>33.59</td>\n",
       "    </tr>\n",
       "    <tr>\n",
       "      <th>3</th>\n",
       "      <td>2020</td>\n",
       "      <td>5.00</td>\n",
       "      <td>3.88</td>\n",
       "      <td>6.75</td>\n",
       "      <td>1.90</td>\n",
       "      <td>7.54</td>\n",
       "      <td>5.35</td>\n",
       "      <td>2.31</td>\n",
       "      <td>1.28</td>\n",
       "      <td>3.87</td>\n",
       "      <td>1.74</td>\n",
       "      <td>1.08</td>\n",
       "      <td>3.00</td>\n",
       "      <td>43.70</td>\n",
       "    </tr>\n",
       "    <tr>\n",
       "      <th>4</th>\n",
       "      <td>2019</td>\n",
       "      <td>1.58</td>\n",
       "      <td>1.29</td>\n",
       "      <td>2.01</td>\n",
       "      <td>6.75</td>\n",
       "      <td>8.15</td>\n",
       "      <td>4.13</td>\n",
       "      <td>0.78</td>\n",
       "      <td>2.44</td>\n",
       "      <td>T</td>\n",
       "      <td>4.42</td>\n",
       "      <td>1.80</td>\n",
       "      <td>1.17</td>\n",
       "      <td>34.52</td>\n",
       "    </tr>\n",
       "    <tr>\n",
       "      <th>...</th>\n",
       "      <td>...</td>\n",
       "      <td>...</td>\n",
       "      <td>...</td>\n",
       "      <td>...</td>\n",
       "      <td>...</td>\n",
       "      <td>...</td>\n",
       "      <td>...</td>\n",
       "      <td>...</td>\n",
       "      <td>...</td>\n",
       "      <td>...</td>\n",
       "      <td>...</td>\n",
       "      <td>...</td>\n",
       "      <td>...</td>\n",
       "      <td>...</td>\n",
       "    </tr>\n",
       "    <tr>\n",
       "      <th>119</th>\n",
       "      <td>1904</td>\n",
       "      <td>1.30</td>\n",
       "      <td>1.79</td>\n",
       "      <td>4.01</td>\n",
       "      <td>2.21</td>\n",
       "      <td>3.86</td>\n",
       "      <td>5.42</td>\n",
       "      <td>2.15</td>\n",
       "      <td>3.26</td>\n",
       "      <td>2.63</td>\n",
       "      <td>5.29</td>\n",
       "      <td>0.02</td>\n",
       "      <td>0.36</td>\n",
       "      <td>32.30</td>\n",
       "    </tr>\n",
       "    <tr>\n",
       "      <th>120</th>\n",
       "      <td>1903</td>\n",
       "      <td>1.83</td>\n",
       "      <td>5.07</td>\n",
       "      <td>2.03</td>\n",
       "      <td>0.59</td>\n",
       "      <td>1.84</td>\n",
       "      <td>4.84</td>\n",
       "      <td>1.84</td>\n",
       "      <td>1.57</td>\n",
       "      <td>2.70</td>\n",
       "      <td>4.53</td>\n",
       "      <td>0.00</td>\n",
       "      <td>0.30</td>\n",
       "      <td>27.14</td>\n",
       "    </tr>\n",
       "    <tr>\n",
       "      <th>121</th>\n",
       "      <td>1902</td>\n",
       "      <td>0.42</td>\n",
       "      <td>0.36</td>\n",
       "      <td>3.80</td>\n",
       "      <td>1.81</td>\n",
       "      <td>4.31</td>\n",
       "      <td>0.58</td>\n",
       "      <td>6.29</td>\n",
       "      <td>T</td>\n",
       "      <td>2.40</td>\n",
       "      <td>1.40</td>\n",
       "      <td>6.89</td>\n",
       "      <td>1.05</td>\n",
       "      <td>29.31</td>\n",
       "    </tr>\n",
       "    <tr>\n",
       "      <th>122</th>\n",
       "      <td>1901</td>\n",
       "      <td>0.08</td>\n",
       "      <td>1.59</td>\n",
       "      <td>1.57</td>\n",
       "      <td>2.04</td>\n",
       "      <td>4.50</td>\n",
       "      <td>0.33</td>\n",
       "      <td>1.99</td>\n",
       "      <td>1.29</td>\n",
       "      <td>1.67</td>\n",
       "      <td>1.90</td>\n",
       "      <td>2.10</td>\n",
       "      <td>0.59</td>\n",
       "      <td>19.65</td>\n",
       "    </tr>\n",
       "    <tr>\n",
       "      <th>123</th>\n",
       "      <td>1900</td>\n",
       "      <td>0.70</td>\n",
       "      <td>0.12</td>\n",
       "      <td>0.73</td>\n",
       "      <td>7.34</td>\n",
       "      <td>6.58</td>\n",
       "      <td>0.84</td>\n",
       "      <td>5.90</td>\n",
       "      <td>1.43</td>\n",
       "      <td>9.12</td>\n",
       "      <td>3.22</td>\n",
       "      <td>0.56</td>\n",
       "      <td>0.35</td>\n",
       "      <td>36.89</td>\n",
       "    </tr>\n",
       "  </tbody>\n",
       "</table>\n",
       "<p>124 rows × 14 columns</p>\n",
       "</div>"
      ],
      "text/plain": [
       "     Year   Jan   Feb   Mar   Apr   May   Jun   Jul    Aug   Sep   Oct   Nov  \\\n",
       "0    2023  1.38  3.97  2.76  3.12  2.35  0.78  0.47      T  0.83  9.63  0.47   \n",
       "1    2022  0.08  2.03  2.12  2.54  3.00  2.64     T  10.68  0.33  4.43  6.40   \n",
       "2    2021  0.85  2.22  3.03  4.50  7.77  2.15  1.50   4.82  0.25  2.96  3.11   \n",
       "3    2020  5.00  3.88  6.75  1.90  7.54  5.35  2.31   1.28  3.87  1.74  1.08   \n",
       "4    2019  1.58  1.29  2.01  6.75  8.15  4.13  0.78   2.44     T  4.42  1.80   \n",
       "..    ...   ...   ...   ...   ...   ...   ...   ...    ...   ...   ...   ...   \n",
       "119  1904  1.30  1.79  4.01  2.21  3.86  5.42  2.15   3.26  2.63  5.29  0.02   \n",
       "120  1903  1.83  5.07  2.03  0.59  1.84  4.84  1.84   1.57  2.70  4.53  0.00   \n",
       "121  1902  0.42  0.36  3.80  1.81  4.31  0.58  6.29      T  2.40  1.40  6.89   \n",
       "122  1901  0.08  1.59  1.57  2.04  4.50  0.33  1.99   1.29  1.67  1.90  2.10   \n",
       "123  1900  0.70  0.12  0.73  7.34  6.58  0.84  5.90   1.43  9.12  3.22  0.56   \n",
       "\n",
       "      Dec  Total  \n",
       "0       T      T  \n",
       "1    2.39  36.64  \n",
       "2    0.43  33.59  \n",
       "3    3.00  43.70  \n",
       "4    1.17  34.52  \n",
       "..    ...    ...  \n",
       "119  0.36  32.30  \n",
       "120  0.30  27.14  \n",
       "121  1.05  29.31  \n",
       "122  0.59  19.65  \n",
       "123  0.35  36.89  \n",
       "\n",
       "[124 rows x 14 columns]"
      ]
     },
     "execution_count": 53,
     "metadata": {},
     "output_type": "execute_result"
    }
   ],
   "source": [
    "row_data = []\n",
    "for i in table_titles[1:125]:\n",
    "        row_data.append(i.split('\\n'))\n",
    "\n",
    "for i in range(0,len(row_data)):\n",
    "        df.loc[i] = row_data[i]\n",
    "\n",
    "df"
   ]
  },
  {
   "cell_type": "markdown",
   "id": "cbc5ebf6",
   "metadata": {},
   "source": [
    "# Exporting Data to CSV for Further Analysis"
   ]
  },
  {
   "cell_type": "code",
   "execution_count": 57,
   "id": "9f5f1ebf",
   "metadata": {},
   "outputs": [],
   "source": [
    "df.to_csv(r'E:\\Sushma Files\\POWER BI TRAINING-Nov 23\\Alex the analyst DA Bootcamp\\WEB SCRAPING PROJECT\\DFW_Rainfall_Analysis_1900_2023.csv',index = False)"
   ]
  }
 ],
 "metadata": {
  "kernelspec": {
   "display_name": "Python 3 (ipykernel)",
   "language": "python",
   "name": "python3"
  },
  "language_info": {
   "codemirror_mode": {
    "name": "ipython",
    "version": 3
   },
   "file_extension": ".py",
   "mimetype": "text/x-python",
   "name": "python",
   "nbconvert_exporter": "python",
   "pygments_lexer": "ipython3",
   "version": "3.11.5"
  }
 },
 "nbformat": 4,
 "nbformat_minor": 5
}
