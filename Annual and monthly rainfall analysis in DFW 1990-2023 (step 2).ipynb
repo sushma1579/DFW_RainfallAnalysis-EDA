{
 "cells": [
  {
   "cell_type": "markdown",
   "id": "5595c144",
   "metadata": {},
   "source": [
    "# Annual and monthly rainfall analysis in DFW 1990-2023"
   ]
  },
  {
   "cell_type": "markdown",
   "id": "3d228bea",
   "metadata": {},
   "source": [
    "# STEP 2 : Data Cleaning"
   ]
  },
  {
   "cell_type": "code",
   "execution_count": 117,
   "id": "0a6d7d42",
   "metadata": {},
   "outputs": [],
   "source": [
    "import pandas as pd"
   ]
  },
  {
   "cell_type": "code",
   "execution_count": 118,
   "id": "d43c9a23",
   "metadata": {},
   "outputs": [],
   "source": [
    "path = \"E:\\Sushma Files\\POWER BI TRAINING-Nov 23\\Alex the analyst DA Bootcamp\\WEB SCRAPING PROJECT\\DFW_Rainfall_Analysis_1990_2023.csv\""
   ]
  },
  {
   "cell_type": "code",
   "execution_count": 156,
   "id": "e4a4c6e8",
   "metadata": {},
   "outputs": [],
   "source": [
    "df = pd.read_csv(path)\n",
    "#df"
   ]
  },
  {
   "cell_type": "code",
   "execution_count": 131,
   "id": "73134d31",
   "metadata": {},
   "outputs": [],
   "source": [
    "#df.info()"
   ]
  },
  {
   "cell_type": "code",
   "execution_count": 121,
   "id": "8d5f1cc4",
   "metadata": {},
   "outputs": [],
   "source": [
    "df = df.drop(columns = 'Total')"
   ]
  },
  {
   "cell_type": "code",
   "execution_count": 122,
   "id": "988d149a",
   "metadata": {},
   "outputs": [],
   "source": [
    "df = df.replace(\"T\", 0.00)\n",
    "#df"
   ]
  },
  {
   "cell_type": "code",
   "execution_count": 136,
   "id": "04024456",
   "metadata": {},
   "outputs": [],
   "source": [
    "numeric_columns = df.columns[1:]\n",
    "df[numeric_columns] = df[numeric_columns].apply(pd.to_numeric, errors='coerce')\n",
    "#df.info()"
   ]
  },
  {
   "cell_type": "code",
   "execution_count": 137,
   "id": "d225c684",
   "metadata": {},
   "outputs": [],
   "source": [
    "#df"
   ]
  },
  {
   "cell_type": "code",
   "execution_count": 149,
   "id": "b6be2e51",
   "metadata": {},
   "outputs": [],
   "source": [
    "df['Total_Rainfall'] = df.iloc[:,1:13].sum(axis=1)"
   ]
  },
  {
   "cell_type": "code",
   "execution_count": 155,
   "id": "898a1435",
   "metadata": {},
   "outputs": [],
   "source": [
    "#df"
   ]
  },
  {
   "cell_type": "code",
   "execution_count": 152,
   "id": "f87cfec7",
   "metadata": {},
   "outputs": [],
   "source": [
    "#df.to_csv(r\"E:\\Sushma Files\\POWER BI TRAINING-Nov 23\\Alex the analyst DA Bootcamp\\WEB SCRAPING PROJECT\\DFW_Rainfall_Analysis_1990_2023_Cleaned.csv\")"
   ]
  }
 ],
 "metadata": {
  "kernelspec": {
   "display_name": "Python 3 (ipykernel)",
   "language": "python",
   "name": "python3"
  },
  "language_info": {
   "codemirror_mode": {
    "name": "ipython",
    "version": 3
   },
   "file_extension": ".py",
   "mimetype": "text/x-python",
   "name": "python",
   "nbconvert_exporter": "python",
   "pygments_lexer": "ipython3",
   "version": "3.11.5"
  }
 },
 "nbformat": 4,
 "nbformat_minor": 5
}
